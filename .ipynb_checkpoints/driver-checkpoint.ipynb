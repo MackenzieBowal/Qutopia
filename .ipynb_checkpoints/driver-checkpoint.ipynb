{
 "cells": [
  {
   "cell_type": "code",
   "execution_count": 28,
   "id": "8f34e96e-4c74-4162-8e20-65901a62fea1",
   "metadata": {},
   "outputs": [
    {
     "name": "stdout",
     "output_type": "stream",
     "text": [
      "Created:  [[0.3585958211302158, 0.26228686534131984], [0.3118064591462759, 0.0063529585314934245], [0.59837920259972, 0.9864893805800505], [0.9802818061468024, 0.17083233477555682], [0.3783528703652933, 0.766537007240316], [0.8877552468453221, 0.7802182050627721], [0.6746642632280617, 0.2645781061265854], [0.04758376002337472, 0.25070861061250116], [0.00968050590720515, 0.6641129976508505], [0.9357456397707639, 0.4550014975285819], [0.5769338527192411, 0.5122245824414694], [0.18567257376991342, 0.9421493110357371]]\n",
      "Read:  [[0.3585958211302158, 0.26228686534131984], [0.3118064591462759, 0.0063529585314934245], [0.59837920259972, 0.9864893805800505], [0.9802818061468024, 0.17083233477555682], [0.3783528703652933, 0.766537007240316], [0.8877552468453221, 0.7802182050627721], [0.6746642632280617, 0.2645781061265854], [0.04758376002337472, 0.25070861061250116], [0.00968050590720515, 0.6641129976508505], [0.9357456397707639, 0.4550014975285819], [0.5769338527192411, 0.5122245824414694], [0.18567257376991342, 0.9421493110357371]]\n"
     ]
    }
   ],
   "source": [
    "from GenerateTestData import *\n",
    "\n",
    "data = createCustomDataset(output_path='Datasets/customDataset.json')\n",
    "print(\"Created: \", data)\n",
    "\n",
    "newdata = readCustomDataset('Datasets/customDataset.json')['points']\n",
    "print(\"Read: \", newdata)"
   ]
  },
  {
   "cell_type": "code",
   "execution_count": 26,
   "id": "921a5b6d-dad8-4118-93bb-7cb661f03098",
   "metadata": {},
   "outputs": [
    {
     "name": "stdout",
     "output_type": "stream",
     "text": [
      "The autoreload extension is already loaded. To reload it, use:\n",
      "  %reload_ext autoreload\n"
     ]
    },
    {
     "ename": "NameError",
     "evalue": "name 'Q' is not defined",
     "output_type": "error",
     "traceback": [
      "\u001b[0;31m---------------------------------------------------------------------------\u001b[0m",
      "\u001b[0;31mNameError\u001b[0m                                 Traceback (most recent call last)",
      "Cell \u001b[0;32mIn[26], line 11\u001b[0m\n\u001b[1;32m      9\u001b[0m   input_data \u001b[38;5;241m=\u001b[39m json\u001b[38;5;241m.\u001b[39mload(f)\n\u001b[1;32m     10\u001b[0m data\u001b[38;5;241m=\u001b[39minput_data[\u001b[38;5;124m'\u001b[39m\u001b[38;5;124mdata\u001b[39m\u001b[38;5;124m'\u001b[39m]\n\u001b[0;32m---> 11\u001b[0m result\u001b[38;5;241m=\u001b[39m\u001b[43mmain\u001b[49m\u001b[38;5;241;43m.\u001b[39;49m\u001b[43mrun\u001b[49m\u001b[43m(\u001b[49m\u001b[43mdata\u001b[49m\u001b[43m,\u001b[49m\u001b[38;5;28;43;01mNone\u001b[39;49;00m\u001b[43m,\u001b[49m\u001b[38;5;28;43;01mNone\u001b[39;49;00m\u001b[43m)\u001b[49m\n\u001b[1;32m     12\u001b[0m json\u001b[38;5;241m.\u001b[39mdumps(result)\n",
      "File \u001b[0;32m~/work/main.py:20\u001b[0m, in \u001b[0;36mrun\u001b[0;34m(input_data, solver_params, extra_arguments)\u001b[0m\n\u001b[1;32m     17\u001b[0m reg \u001b[38;5;241m=\u001b[39m Register(qubits)\n\u001b[1;32m     19\u001b[0m \u001b[38;5;66;03m# We choose a median value between the min and the max\u001b[39;00m\n\u001b[0;32m---> 20\u001b[0m Omega \u001b[38;5;241m=\u001b[39m np\u001b[38;5;241m.\u001b[39mmedian(\u001b[43mQ\u001b[49m[Q \u001b[38;5;241m>\u001b[39m \u001b[38;5;241m0\u001b[39m]\u001b[38;5;241m.\u001b[39mflatten())\n\u001b[1;32m     21\u001b[0m delta_0 \u001b[38;5;241m=\u001b[39m \u001b[38;5;241m-\u001b[39m\u001b[38;5;241m5\u001b[39m  \u001b[38;5;66;03m# just has to be negative\u001b[39;00m\n\u001b[1;32m     22\u001b[0m delta_f \u001b[38;5;241m=\u001b[39m \u001b[38;5;241m-\u001b[39mdelta_0  \u001b[38;5;66;03m# just has to be positive\u001b[39;00m\n",
      "\u001b[0;31mNameError\u001b[0m: name 'Q' is not defined"
     ]
    }
   ],
   "source": [
    "input_json=\"Datasets/customDataset.json\"\n",
    "\n",
    "%load_ext autoreload\n",
    "%autoreload 2\n",
    "\n",
    "import json\n",
    "import main\n",
    "with open(input_json) as f:\n",
    "  input_data = json.load(f)\n",
    "data=input_data['data']\n",
    "result=main.run(data,None,None)\n",
    "json.dumps(result)"
   ]
  },
  {
   "cell_type": "code",
   "execution_count": 48,
   "id": "5a40c306-51e3-47cb-b89f-c478e52002dd",
   "metadata": {},
   "outputs": [
    {
     "ename": "SyntaxError",
     "evalue": "invalid syntax (1860488339.py, line 25)",
     "output_type": "error",
     "traceback": [
      "\u001b[0;36m  Cell \u001b[0;32mIn[48], line 25\u001b[0;36m\u001b[0m\n\u001b[0;31m    if (np.linalg.norm(np.array(v1) - np.array(v2) < self.radius):\u001b[0m\n\u001b[0m                                                                 ^\u001b[0m\n\u001b[0;31mSyntaxError\u001b[0m\u001b[0;31m:\u001b[0m invalid syntax\n"
     ]
    }
   ],
   "source": [
    "import copy\n",
    "\n",
    "class Graph():\n",
    "\n",
    "    vertices = {}\n",
    "    edges = []\n",
    "    radius = 0.0\n",
    "    \n",
    "    def __init__(self, data, radius):\n",
    "        # Set vertices and edges with list of data points and radius\n",
    "        self.radius = radius\n",
    "\n",
    "        vertices = {}\n",
    "        for i, point in enumerate(data):\n",
    "            vertices[i] = point\n",
    "        self.vertices = copy.deepcopy(vertices)\n",
    "\n",
    "        edges = []\n",
    "        vertices_temp = copy.deepcopy(vertices)\n",
    "        for vertex1 in vertices:\n",
    "            v1 = vertices[vertex1]            \n",
    "            vertices_temp.pop(vertex1)\n",
    "            for vertex2 in vertices_temp:\n",
    "                v2 = vertices_temp[vertex2]\n",
    "                if (np.linalg.norm(np.array(v1) - np.array(v2)) < self.radius):\n",
    "                    edges.append((vertex1, vertex2))\n",
    "        self.edges = copy.deepcopy(edges)\n",
    "        \n",
    "        return None\n",
    "\n",
    "g = Graph(data, 0.5)\n",
    "print(g.vertices)\n",
    "        "
   ]
  }
 ],
 "metadata": {
  "kernelspec": {
   "display_name": "Python 3 (ipykernel)",
   "language": "python",
   "name": "python3"
  },
  "language_info": {
   "codemirror_mode": {
    "name": "ipython",
    "version": 3
   },
   "file_extension": ".py",
   "mimetype": "text/x-python",
   "name": "python",
   "nbconvert_exporter": "python",
   "pygments_lexer": "ipython3",
   "version": "3.11.6"
  }
 },
 "nbformat": 4,
 "nbformat_minor": 5
}
