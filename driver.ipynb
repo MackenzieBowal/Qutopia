{
 "cells": [
  {
   "cell_type": "code",
   "execution_count": 1,
   "id": "8f34e96e-4c74-4162-8e20-65901a62fea1",
   "metadata": {},
   "outputs": [],
   "source": [
    "from GenerateTestData import *"
   ]
  },
  {
   "cell_type": "code",
   "execution_count": 2,
   "id": "39fa0693-4ea9-4115-a0a7-869d70821e1d",
   "metadata": {},
   "outputs": [
    {
     "name": "stdout",
     "output_type": "stream",
     "text": [
      "[[0.6231727414187814, 0.6742022544935609], [0.1431195316583469, 0.2595832680752933], [0.9226062491066227, 0.9567790910051474], [0.7617703907787656, 0.23618496197103267], [0.0831133041933062, 0.6903947361663609], [0.47939645030922595, 0.9757862373594067], [0.5640417240685699, 0.4159878668432472], [0.3396756509886417, 0.7244773486518534], [0.8606133829874574, 0.5001394907648894], [0.4353946289256907, 0.061967097476375965], [0.9911772766486083, 0.11174131466843162], [0.22337649865230835, 0.9994561428883663]]\n"
     ]
    }
   ],
   "source": [
    "data = createCustomDataset(output_path='Datasets/custom2.json')\n",
    "print(data)"
   ]
  },
  {
   "cell_type": "code",
   "execution_count": 4,
   "id": "ddba6895-66ca-42fc-80d0-5b6a0bfbebd9",
   "metadata": {},
   "outputs": [
    {
     "name": "stdout",
     "output_type": "stream",
     "text": [
      "[[0.6231727414187814, 0.6742022544935609], [0.1431195316583469, 0.2595832680752933], [0.9226062491066227, 0.9567790910051474], [0.7617703907787656, 0.23618496197103267], [0.0831133041933062, 0.6903947361663609], [0.47939645030922595, 0.9757862373594067], [0.5640417240685699, 0.4159878668432472], [0.3396756509886417, 0.7244773486518534], [0.8606133829874574, 0.5001394907648894], [0.4353946289256907, 0.061967097476375965], [0.9911772766486083, 0.11174131466843162], [0.22337649865230835, 0.9994561428883663]]\n"
     ]
    }
   ],
   "source": [
    "newdata = readCustomDataset('Datasets/custom2.json')['points']\n",
    "print(newdata)"
   ]
  },
  {
   "cell_type": "code",
   "execution_count": null,
   "id": "921a5b6d-dad8-4118-93bb-7cb661f03098",
   "metadata": {},
   "outputs": [],
   "source": []
  }
 ],
 "metadata": {
  "kernelspec": {
   "display_name": "Python 3 (ipykernel)",
   "language": "python",
   "name": "python3"
  },
  "language_info": {
   "codemirror_mode": {
    "name": "ipython",
    "version": 3
   },
   "file_extension": ".py",
   "mimetype": "text/x-python",
   "name": "python",
   "nbconvert_exporter": "python",
   "pygments_lexer": "ipython3",
   "version": "3.11.6"
  }
 },
 "nbformat": 4,
 "nbformat_minor": 5
}
