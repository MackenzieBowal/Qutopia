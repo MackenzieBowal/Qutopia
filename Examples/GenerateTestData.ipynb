{
 "cells": [
  {
   "cell_type": "code",
   "execution_count": 1,
   "id": "4a011a29-6144-4244-85ee-78d434a7478e",
   "metadata": {},
   "outputs": [],
   "source": [
    "import numpy as np\n",
    "import pulser\n",
    "from pprint import pprint"
   ]
  },
  {
   "cell_type": "code",
   "execution_count": 7,
   "id": "f70b3e3a-ce7d-4f2c-8e1b-b9cae273752c",
   "metadata": {},
   "outputs": [
    {
     "data": {
      "text/plain": [
       "array([[[6.40496708e-01, 7.83442264e-01],\n",
       "        [9.80766367e-01, 8.69840451e-01],\n",
       "        [9.56993021e-04, 6.64115821e-01]],\n",
       "\n",
       "       [[8.28524665e-01, 1.34940031e-01],\n",
       "        [3.01559043e-01, 6.32073656e-02],\n",
       "        [9.16813641e-01, 3.38831192e-01]],\n",
       "\n",
       "       [[5.59677993e-01, 6.33927321e-01],\n",
       "        [7.79185391e-01, 3.60010401e-01],\n",
       "        [5.32942502e-01, 4.58949298e-01]],\n",
       "\n",
       "       [[3.72908803e-01, 9.25441843e-01],\n",
       "        [9.82946748e-01, 1.28836515e-01],\n",
       "        [5.42534859e-02, 7.69943064e-01]]])"
      ]
     },
     "execution_count": 7,
     "metadata": {},
     "output_type": "execute_result"
    }
   ],
   "source": [
    "data = np.random.rand(4,3,2)\n",
    "data"
   ]
  },
  {
   "cell_type": "code",
   "execution_count": null,
   "id": "e60c9629-360e-47da-80f0-aef59ebc75ce",
   "metadata": {},
   "outputs": [],
   "source": []
  }
 ],
 "metadata": {
  "kernelspec": {
   "display_name": "QCentroid Notebook Pasqal",
   "language": "python",
   "name": "notebook-pasqal"
  },
  "language_info": {
   "codemirror_mode": {
    "name": "ipython",
    "version": 3
   },
   "file_extension": ".py",
   "mimetype": "text/x-python",
   "name": "python",
   "nbconvert_exporter": "python",
   "pygments_lexer": "ipython3",
   "version": "3.11.6"
  }
 },
 "nbformat": 4,
 "nbformat_minor": 5
}
