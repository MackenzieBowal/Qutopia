{
 "cells": [
  {
   "cell_type": "code",
   "execution_count": 1,
   "id": "4a011a29-6144-4244-85ee-78d434a7478e",
   "metadata": {},
   "outputs": [],
   "source": [
    "import numpy as np\n",
    "import pulser\n",
    "from pprint import pprint"
   ]
  },
  {
   "cell_type": "code",
   "execution_count": 102,
   "id": "f70b3e3a-ce7d-4f2c-8e1b-b9cae273752c",
   "metadata": {},
   "outputs": [
    {
     "name": "stdout",
     "output_type": "stream",
     "text": [
      "[[0.5055135353626593, 0.61766890220657], [0.02690033721378826, 0.5899189724048709], [0.5232354315517934, 0.07518305279088577], [0.20435605372856547, 0.7960713014733128], [0.3212336848904557, 0.33074927413095045], [0.8987063406998577, 0.4942480778282876], [0.644894608829674, 0.9885490492877753], [0.6308248507837239, 0.32230896392550534], [0.9852480031768329, 0.7653260145778515], [0.8526108837727637, 0.02791793198374115], [0.006021493470569128, 0.9561079343322942], [0.22232388656319235, 0.012256917663470479]]\n"
     ]
    }
   ],
   "source": [
    "data = []\n",
    "while len(data) < 12:\n",
    "    append = True\n",
    "    new_point = np.random.rand(2)\n",
    "    for point in data:\n",
    "        if (np.linalg.norm(np.array(point) - new_point) < 0.25):\n",
    "            append = False\n",
    "            continue\n",
    "    if append:\n",
    "        data.append(list(new_point))\n",
    "\n",
    "print(data)"
   ]
  },
  {
   "cell_type": "code",
   "execution_count": null,
   "id": "e60c9629-360e-47da-80f0-aef59ebc75ce",
   "metadata": {},
   "outputs": [],
   "source": [
    "# random comment"
   ]
  }
 ],
 "metadata": {
  "kernelspec": {
   "display_name": "QCentroid Notebook Pasqal",
   "language": "python",
   "name": "notebook-pasqal"
  },
  "language_info": {
   "codemirror_mode": {
    "name": "ipython",
    "version": 3
   },
   "file_extension": ".py",
   "mimetype": "text/x-python",
   "name": "python",
   "nbconvert_exporter": "python",
   "pygments_lexer": "ipython3",
   "version": "3.11.6"
  }
 },
 "nbformat": 4,
 "nbformat_minor": 5
}
