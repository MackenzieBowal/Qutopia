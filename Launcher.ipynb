{
 "cells": [
  {
   "cell_type": "markdown",
   "id": "e7762c8f",
   "metadata": {},
   "source": [
    "# Welcome to the GenQ Hackathon in Calgary, Alberta!\n",
    "We are excited to have you here. This is your workspace for the hackathon, where you can develop your projects and explore new ideas.\n",
    "\n",
    "**Good luck and may the best ideas win!**\n",
    "\n",
    "## Access the Hackathon Documentation\n",
    "For all relevant information, rules, resources, and updates throughout the event, please refer to the official [Hackathon Documentation](https://gen-q.tech/).\n",
    "This will be your go-to guide during the hackathon to stay informed and make the most out of your experience.\n",
    "\n",
    "**Also, take a deep look on [QCentroid documentation](https://docs.qcentroid.xyz/platform/genq-qc-hackathon/)**\n",
    "\n",
    "## Access the Challenge Documentation\n",
    "Your challenge is [Quantum Wind Farms](./QAI-Hackathon_UseCaseWindFarms.pdf). Please, read carefully before coding.\\\n",
    "You will code using [Pasqal](https://pulser.readthedocs.io/en/stable/index.html). Please, take a look at the examples and visit the documentation\n",
    "\n",
    "## How to run your algorithm\n",
    "1. Select your input json dataset. `input_json='input.json'`\n",
    "2. Read the json and read the data section. `with open(input_json) as f: input_data = json.load(f) data=input_data['data'] `\n",
    "3. Call main.run with `result=main.run(data,None,None)`\n",
    "4. Verify that your result is json compatible `json.loads(result)`\n",
    "\n",
    "## How to use your backend\n",
    "1. Your backend is Pasqal.\n",
    "2. You only need to get your assigned token and account using `os.environ.get('PASQAL_USERNAME')`,`os.environ.get('PASQAL_PROJECTID')` and `os.environ.get('PASQAL_PASSWORD'))` . You don't need to request a token.\n",
    "3. You can use local or remote simulator. For local simulation:\n",
    "\n",
    "```python\n",
    "    #This is the code to get your backend\n",
    "    simul = QutipEmulator.from_sequence(seq)\n",
    "   ```\n",
    "4. For remote simulation:\n",
    "```python\n",
    "    #This is the code to get your backend\n",
    "    connection = PasqalCloud(\n",
    "        username=os.environ.get('PASQAL_USERNAME'),  # Your username or email address for the Pasqal Cloud Platform\n",
    "        project_id=os.environ.get('PASQAL_PROJECTID'),  # The ID of the project associated to your account\n",
    "        password=os.environ.get('PASQAL_PASSWORD'),  # The password for your Pasqal Cloud Platform account\n",
    "    )\n",
    "    tn_bknd = pulser.backends.EmuTNBackend(\n",
    "        seq, connection=connection, config=emu_tn_default\n",
    "    )\n",
    "   ```\n",
    "   \n",
    "\n",
    "## How to test in the evaluation platform\n",
    "1. When you have something interesting to be evaluated, please, commit and pull using the Git menu on the left (add everything, press Commit at the bottom and find a button at the top with a yellow dot)\n",
    "2. Go to the evaluation platform.\n",
    "3. Find your repository, pull your repository.\n",
    "4. Execute a new job\n",
    "\n",
    "## Libraries to be used (installed in your IDE and evaluation platform)\n",
    "1. All the standard distribution.\n",
    "2. Matplotlib, Numpy, Pandas, Tensorflow, Scipy, Seaborn, Statsmodels, Networkx, Scikit and Dask\n",
    "3. For your specific challenge QuantumRingsLib\n",
    "4. For any other library, please, ask support team.\n",
    "\n",
    "## Important things to take care of\n",
    "1. Inside main.py there is a method with a specific signature. Don't modify that. It is your solver entry point `def run(input_data,solver_params,extra_arguments)`\n",
    "2. QCentroid datasets have 3 sections, but 2 of them are not used in this Hackathon. Your data will be inside data section in your json `{\"data\":{(your data)}}`\n",
    "3. If you want to upload a dataset to QCentroid platform, please ask support team how to do that.\n",
    "4. Any issue ask the support team during the day or write an email from your hackathon email account to teamx@qai-ventures.com\n",
    "   "
   ]
  },
  {
   "cell_type": "code",
   "execution_count": 2,
   "id": "fb284c25-7185-41a6-843f-01c412d3c40f",
   "metadata": {},
   "outputs": [],
   "source": [
    "input_json='input.json'"
   ]
  },
  {
   "cell_type": "code",
   "execution_count": 14,
   "id": "a4be95b1-d696-45fb-87ab-5bfeb1af26e6",
   "metadata": {
    "deletable": false,
    "editable": false
   },
   "outputs": [
    {
     "name": "stdout",
     "output_type": "stream",
     "text": [
      "The autoreload extension is already loaded. To reload it, use:\n",
      "  %reload_ext autoreload\n"
     ]
    },
    {
     "data": {
      "text/plain": [
       "'{\"00001\": 1, \"00010\": 1, \"00011\": 24, \"00101\": 1, \"00111\": 474, \"01000\": 2, \"01010\": 4, \"01011\": 487, \"10000\": 4, \"10001\": 1, \"10010\": 1}'"
      ]
     },
     "execution_count": 14,
     "metadata": {},
     "output_type": "execute_result"
    }
   ],
   "source": [
    "#############################################################################################################################\n",
    "############################################## PLEASE, DON'T MODIFY THIS CELL. ##############################################\n",
    "######################## IF THIS CELL DOES NOT WORK, YOUR CODE WON'T WORK ON THE EVALUATION PLATFORM ########################\n",
    "#############################################################################################################################\n",
    "\n",
    "%load_ext autoreload\n",
    "%autoreload 2\n",
    "\n",
    "import json\n",
    "import main\n",
    "with open(input_json) as f:\n",
    "  input_data = json.load(f)\n",
    "data=input_data['data']\n",
    "result=main.run(data,None,None)\n",
    "json.dumps(result)"
   ]
  },
  {
   "cell_type": "code",
   "execution_count": 5,
   "id": "79888412-f9e4-4ba2-af3f-f7dda8463c4b",
   "metadata": {},
   "outputs": [
    {
     "data": {
      "image/png": "[encoded data removed]",
      "text/plain": [
       "<Figure size 1000x700 with 1 Axes>"
      ]
     },
     "metadata": {},
     "output_type": "display_data"
    }
   ],
   "source": [
    "from matplotlib import pyplot as plt\n",
    "import numpy as np\n",
    "def plot_histogram (counts, title=\"\"):\n",
    "    \"\"\"\n",
    "    Plots the histogram of the counts\n",
    "\n",
    "    Args:\n",
    "\n",
    "        counts (dict):\n",
    "            The dictionary containing the counts of states\n",
    "\n",
    "        titles (str):\n",
    "            A title for the graph.\n",
    "\n",
    "    Returns:\n",
    "        None\n",
    "\n",
    "    \"\"\"\n",
    "    fig, ax = plt.subplots(figsize =(10, 7))\n",
    "    plt.xlabel(\"States\")\n",
    "    plt.ylabel(\"Counts\")\n",
    "    mylist = [key for key, val in counts.items() for _ in range(val)]\n",
    "\n",
    "    unique, inverse = np.unique(mylist, return_inverse=True)\n",
    "    bin_counts = np.bincount(inverse)\n",
    "\n",
    "    plt.bar(unique, bin_counts)\n",
    "\n",
    "    maxFreq = max(counts.values())\n",
    "    plt.ylim(ymax=np.ceil(maxFreq / 10) * 10 if maxFreq % 10 else maxFreq + 10)\n",
    "    # Show plot\n",
    "    plt.title(title)\n",
    "    plt.show()\n",
    "    return\n",
    "plot_histogram(result)"
   ]
  },
  {
   "cell_type": "code",
   "execution_count": null,
   "id": "d5bd7347-dd5f-44da-9705-ed168a019ed0",
   "metadata": {},
   "outputs": [],
   "source": []
  }
 ],
 "metadata": {
  "kernelspec": {
   "display_name": "QCentroid Notebook Pasqal",
   "language": "python",
   "name": "notebook-pasqal"
  },
  "language_info": {
   "codemirror_mode": {
    "name": "ipython",
    "version": 3
   },
   "file_extension": ".py",
   "mimetype": "text/x-python",
   "name": "python",
   "nbconvert_exporter": "python",
   "pygments_lexer": "ipython3",
   "version": "3.11.6"
  }
 },
 "nbformat": 4,
 "nbformat_minor": 5
}
